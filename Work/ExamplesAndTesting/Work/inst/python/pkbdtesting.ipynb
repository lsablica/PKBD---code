{
 "cells": [
  {
   "cell_type": "code",
   "execution_count": 1,
   "metadata": {},
   "outputs": [],
   "source": [
    "import torch\n",
    "import torch.nn as nn\n",
    "import torch.optim as optim\n",
    "import numpy as np\n",
    "\n",
    "INPUT_DIM = 2\n",
    "HIDDEN_DIM = 32\n",
    "OUTPUT_DIM = 512\n",
    "K = 3\n",
    "optimizer = \"Adam\"\n",
    "lr = 0.001\n",
    "\n",
    "\n",
    "class PKBDModel(nn.Module):\n",
    "    def __init__(self, input_dim, hidden_dim, output_dim):\n",
    "        super(PKBDModel, self).__init__()\n",
    "        self.fc1 = nn.Linear(input_dim, hidden_dim)\n",
    "        self.fc2 = nn.Linear(hidden_dim, output_dim)\n",
    "        \n",
    "    def forward(self, x):\n",
    "        x = torch.relu(self.fc1(x))\n",
    "        x = self.fc2(x)\n",
    "        norm = x.norm(dim=-1, keepdim=True)\n",
    "        mu = x / norm  # Ensure mu is a unit vector\n",
    "        kappa = norm / (norm + 1)  # Map norm to (0, 1)\n",
    "        return mu, kappa\n",
    "\n",
    "def PKBD_nll(mu, kappa, Y, responsibilities):\n",
    "    d = mu.shape[-1]\n",
    "    log_prob = torch.log(1 - torch.square(kappa)) - (d/2) * torch.log(1 + torch.square(kappa) + kappa * torch.mv(Y, mu))\n",
    "    weighted_log_prob = responsibilities * log_prob\n",
    "    return -weighted_log_prob.mean()\n",
    "    "
   ]
  },
  {
   "cell_type": "code",
   "execution_count": 5,
   "metadata": {},
   "outputs": [
    {
     "data": {
      "text/plain": [
       "False"
      ]
     },
     "execution_count": 5,
     "metadata": {},
     "output_type": "execute_result"
    }
   ],
   "source": []
  },
  {
   "cell_type": "code",
   "execution_count": null,
   "metadata": {},
   "outputs": [],
   "source": [
    "\n",
    "\n",
    "\n",
    "def e_step(X, pi, mu, kappa):\n",
    "    responsibilities = []\n",
    "    for i in range(len(pi)):\n",
    "        C_d = (kappa[i] ** (X.shape[-1]/2 - 1)) / ((2 * np.pi) ** (X.shape[-1]/2) * ive(X.shape[-1]/2 - 1, kappa[i]))\n",
    "        log_prob = torch.log(C_d) + kappa[i] * (mu[i] * X).sum(dim=-1)\n",
    "        responsibilities.append(pi[i] * torch.exp(log_prob))\n",
    "    responsibilities = torch.stack(responsibilities, dim=1)\n",
    "    responsibilities = responsibilities / responsibilities.sum(dim=1, keepdim=True)\n",
    "    return responsibilities\n",
    "\n",
    "def m_step(X, responsibilities, model, optimizer):\n",
    "    optimizer.zero_grad()\n",
    "    mu, kappa = model(X)\n",
    "    loss = vmf_nll(mu, kappa, X, responsibilities)\n",
    "    loss.backward()\n",
    "    optimizer.step()\n",
    "    return mu, kappa\n",
    "\n",
    "# Example usage\n",
    "input_dim = 10  # Number of covariates\n",
    "hidden_dim = 50\n",
    "output_dim = 3  # Dimension of the sphere, e.g., 3 for 3D sphere\n",
    "num_components = 3\n",
    "\n",
    "model = VMFModel(input_dim, hidden_dim, output_dim)\n",
    "optimizer = optim.Adam(model.parameters(), lr=0.001)\n",
    "\n",
    "# Initialize parameters\n",
    "pi = torch.ones(num_components) / num_components\n",
    "mu = torch.randn(num_components, output_dim)\n",
    "mu = mu / mu.norm(dim=1, keepdim=True)\n",
    "kappa = torch.ones(num_components)\n",
    "\n",
    "# Training loop for EM algorithm\n",
    "num_epochs = 100\n",
    "for epoch in range(num_epochs):\n",
    "    model.train()\n",
    "    # Assume X is the input covariates and Y is the observed directions\n",
    "    X = torch.randn(100, input_dim)\n",
    "    Y = torch.randn(100, output_dim)\n",
    "    Y = Y / Y.norm(dim=-1, keepdim=True)  # Ensure Y is on the unit sphere\n",
    "    \n",
    "    # E-step\n",
    "    responsibilities = e_step(Y, pi, mu, kappa)\n",
    "    \n",
    "    # M-step\n",
    "    mu, kappa = m_step(Y, responsibilities, model, optimizer)\n",
    "    \n",
    "    if epoch % 10 == 0:\n",
    "        print(f'Epoch {epoch}, mu: {mu}, kappa: {kappa}')\n",
    "\n",
    "# After training, you can use the learned parameters (mu, kappa) to estimate the von Mises-Fisher distribution."
   ]
  }
 ],
 "metadata": {
  "kernelspec": {
   "display_name": "Python 3",
   "language": "python",
   "name": "python3"
  },
  "language_info": {
   "codemirror_mode": {
    "name": "ipython",
    "version": 3
   },
   "file_extension": ".py",
   "mimetype": "text/x-python",
   "name": "python",
   "nbconvert_exporter": "python",
   "pygments_lexer": "ipython3",
   "version": "3.12.3"
  }
 },
 "nbformat": 4,
 "nbformat_minor": 2
}
